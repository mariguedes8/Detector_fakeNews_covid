{
  "nbformat": 4,
  "nbformat_minor": 0,
  "metadata": {
    "colab": {
      "name": "Cópia de Detector Fake news Covid-tfidf com Random Forest.ipynb",
      "provenance": [],
      "authorship_tag": "ABX9TyOQs9fR3z2w1lkJjwCd4zzY"
    },
    "kernelspec": {
      "name": "python3",
      "display_name": "Python 3"
    },
    "language_info": {
      "name": "python"
    }
  },
  "cells": [
    {
      "cell_type": "code",
      "execution_count": 1,
      "metadata": {
        "id": "z-3K4MHbkTNx",
        "outputId": "2a038230-0216-498f-c17c-18085a845d64",
        "colab": {
          "base_uri": "https://localhost:8080/"
        }
      },
      "outputs": [
        {
          "output_type": "stream",
          "name": "stderr",
          "text": [
            "[nltk_data] Downloading package stopwords to /root/nltk_data...\n",
            "[nltk_data]   Unzipping corpora/stopwords.zip.\n"
          ]
        },
        {
          "output_type": "execute_result",
          "data": {
            "text/plain": [
              "True"
            ]
          },
          "metadata": {},
          "execution_count": 1
        }
      ],
      "source": [
        "# Importando bibliotecas\n",
        "\n",
        "import matplotlib.pyplot as plt\n",
        "import pandas as pd\n",
        "import numpy as np\n",
        "import itertools as iter\n",
        "from sklearn.pipeline import Pipeline\n",
        "from sklearn.metrics import classification_report, confusion_matrix\n",
        "from sklearn.model_selection import train_test_split\n",
        "from sklearn.naive_bayes import MultinomialNB\n",
        "from sklearn.feature_extraction.text import TfidfVectorizer\n",
        "from sklearn.ensemble import RandomForestClassifier\n",
        "import pickle\n",
        "import seaborn as sn\n",
        "import nltk\n",
        "from nltk.corpus import stopwords\n",
        "import nltk\n",
        "nltk.download('stopwords')\n"
      ]
    },
    {
      "cell_type": "code",
      "source": [
        "# Importando Arquivo/ Corpus\n",
        "news = pd.read_csv(\"/content/Compliado_falso _Verdadeiro.csv\")\n",
        "X = news['text']\n",
        "y = news['label']\n"
      ],
      "metadata": {
        "id": "2vGwXGYCkp5B"
      },
      "execution_count": 2,
      "outputs": []
    },
    {
      "cell_type": "code",
      "source": [
        "X_train, X_test, y_train, y_test = train_test_split(X, y, test_size=0.2)\n"
      ],
      "metadata": {
        "id": "sWLMKs-MkxSi"
      },
      "execution_count": 3,
      "outputs": []
    },
    {
      "cell_type": "code",
      "source": [
        "# Criando um pipeline que primeiro cria um pacote de palavras (depois de aplicar palavras irrelevantes) e depois aplica o modelo Multinomial Naive Bayes\n",
        "# Classificador Naive Bayes para modelos multinomiais.\n",
        "\n",
        "pipeline = Pipeline([('tfidf', TfidfVectorizer(stop_words=stopwords.words('portuguese'), analyzer='word')),\n",
        "                     ('randomForest',  RandomForestClassifier(max_depth=5, n_estimators=10, max_features=1))])\n"
      ],
      "metadata": {
        "id": "Qmv3xw9Mk1O_"
      },
      "execution_count": 4,
      "outputs": []
    },
    {
      "cell_type": "code",
      "source": [
        "#Treinando os dados\n",
        "pipeline.fit(X_train, y_train)\n"
      ],
      "metadata": {
        "colab": {
          "base_uri": "https://localhost:8080/"
        },
        "id": "Uah8XlJck4bQ",
        "outputId": "4ff4f70f-f2b5-4719-f71a-391763c63fb9"
      },
      "execution_count": 5,
      "outputs": [
        {
          "output_type": "execute_result",
          "data": {
            "text/plain": [
              "Pipeline(steps=[('tfidf',\n",
              "                 TfidfVectorizer(stop_words=['a', 'à', 'ao', 'aos', 'aquela',\n",
              "                                             'aquelas', 'aquele', 'aqueles',\n",
              "                                             'aquilo', 'as', 'às', 'até', 'com',\n",
              "                                             'como', 'da', 'das', 'de', 'dela',\n",
              "                                             'delas', 'dele', 'deles', 'depois',\n",
              "                                             'do', 'dos', 'e', 'é', 'ela',\n",
              "                                             'elas', 'ele', 'eles', ...])),\n",
              "                ('randomForest',\n",
              "                 RandomForestClassifier(max_depth=5, max_features=1,\n",
              "                                        n_estimators=10))])"
            ]
          },
          "metadata": {},
          "execution_count": 5
        }
      ]
    },
    {
      "cell_type": "code",
      "source": [
        "# Prevendo o rótulo para os dados de teste\n",
        "\n",
        "pred = pipeline.predict(X_test)\n"
      ],
      "metadata": {
        "id": "oFvbvfzQmom_"
      },
      "execution_count": 6,
      "outputs": []
    },
    {
      "cell_type": "code",
      "source": [
        "# Verificando o desempenho do nosso modelo\n",
        "\n",
        "print(\"Relatório de classificação\")\n",
        "print(classification_report(y_test, pred))\n"
      ],
      "metadata": {
        "colab": {
          "base_uri": "https://localhost:8080/"
        },
        "id": "EMroJ7oqms0f",
        "outputId": "101a5243-83eb-4123-8e53-c17aff36aba5"
      },
      "execution_count": 7,
      "outputs": [
        {
          "output_type": "stream",
          "name": "stdout",
          "text": [
            "Relatório de classificação\n",
            "              precision    recall  f1-score   support\n",
            "\n",
            "        FAKE       0.32      1.00      0.48         6\n",
            "        REAL       1.00      0.07      0.13        14\n",
            "\n",
            "    accuracy                           0.35        20\n",
            "   macro avg       0.66      0.54      0.31        20\n",
            "weighted avg       0.79      0.35      0.24        20\n",
            "\n"
          ]
        }
      ]
    },
    {
      "cell_type": "code",
      "source": [
        "print(\"Valor da matriz de confusão\")\n",
        "array = confusion_matrix(y_test, pred)\n",
        "print(array)\n"
      ],
      "metadata": {
        "colab": {
          "base_uri": "https://localhost:8080/"
        },
        "id": "m9FPppqkmuKK",
        "outputId": "888823f6-f4af-41d1-acd9-199f9b381a28"
      },
      "execution_count": 8,
      "outputs": [
        {
          "output_type": "stream",
          "name": "stdout",
          "text": [
            "Valor da matriz de confusão\n",
            "[[ 6  0]\n",
            " [13  1]]\n"
          ]
        }
      ]
    },
    {
      "cell_type": "code",
      "source": [
        "## Mapa de Calor\n",
        "\n",
        "df_cm = pd.DataFrame(array, index=[i for i in \"AB\"],\n",
        "                     columns=[i for i in \"AB\"])\n",
        "plt.figure(figsize=(10, 7))\n",
        "sn.heatmap(df_cm, annot=True)\n"
      ],
      "metadata": {
        "colab": {
          "base_uri": "https://localhost:8080/",
          "height": 446
        },
        "id": "a9BE_8dCmzcd",
        "outputId": "e5a9efe0-6969-4779-85ea-79eb2c599527"
      },
      "execution_count": 9,
      "outputs": [
        {
          "output_type": "execute_result",
          "data": {
            "text/plain": [
              "<matplotlib.axes._subplots.AxesSubplot at 0x7fa9bfed8b90>"
            ]
          },
          "metadata": {},
          "execution_count": 9
        },
        {
          "output_type": "display_data",
          "data": {
            "text/plain": [
              "<Figure size 720x504 with 2 Axes>"
            ],
            "image/png": "[encoded data removed]"
          },
          "metadata": {
            "needs_background": "light"
          }
        }
      ]
    },
    {
      "cell_type": "code",
      "source": [
        "with open('model.pickle', 'wb') as handle:\n",
        "    pickle.dump(pipeline, handle, protocol=pickle.HIGHEST_PROTOCOL)\n"
      ],
      "metadata": {
        "id": "btJDfHdim2iH"
      },
      "execution_count": 10,
      "outputs": []
    },
    {
      "cell_type": "code",
      "source": [
        "def plot_confusion_matrix(cm, classes,\n",
        "                          normalize=False,\n",
        "                          title='matriz de confusão',\n",
        "                          cmap=plt.cm.Blues):\n",
        "    \n",
        "    if normalize:\n",
        "        cm = cm.astype('float') / cm.sum(axis=1)[:, np.newaxis]\n",
        "        print(\"matriz de confusão Normalizada\")\n",
        "    else:\n",
        "        print('matriz de confusão, sem normalização')\n",
        "\n",
        "    print(cm)\n",
        "\n",
        "    plt.imshow(cm, interpolation='nearest', cmap=cmap)\n",
        "    plt.title(title)\n",
        "    plt.colorbar()\n",
        "    tick_marks = np.arange(len(classes))\n",
        "    plt.xticks(tick_marks, classes, rotation=45)\n",
        "    plt.yticks(tick_marks, classes)\n",
        "\n",
        "    fmt = '.2f' if normalize else 'd'\n",
        "    thresh = cm.max() / 2.\n",
        "    for i, j in iter.product(range(cm.shape[0]), range(cm.shape[1])):\n",
        "        plt.text(j, i, format(cm[i, j], fmt),\n",
        "                 horizontalalignment=\"center\",\n",
        "                 color=\"white\" if cm[i, j] > thresh else \"black\")\n",
        "\n",
        "    plt.ylabel('True label')\n",
        "    plt.xlabel('Predicted label')\n",
        "    plt.tight_layout()\n",
        "\n",
        "\n"
      ],
      "metadata": {
        "id": "Wei6Cg6bm9jA"
      },
      "execution_count": 11,
      "outputs": []
    },
    {
      "cell_type": "code",
      "source": [
        "cnf_matrix = confusion_matrix(y_test, pred)\n",
        "np.set_printoptions(precision=2)\n"
      ],
      "metadata": {
        "id": "mLAT9tQqnBLa"
      },
      "execution_count": 12,
      "outputs": []
    },
    {
      "cell_type": "code",
      "source": [
        "plt.figure(figsize=(10, 7))\n",
        "plot_confusion_matrix(cnf_matrix, classes=['Fake', 'Real'],\n",
        "                      title=' matriz de confusão sem normalização')\n"
      ],
      "metadata": {
        "colab": {
          "base_uri": "https://localhost:8080/",
          "height": 568
        },
        "id": "H-rKCfqzndu6",
        "outputId": "4d9ae1bf-61fd-47d9-bbee-e66649e29fb8"
      },
      "execution_count": 14,
      "outputs": [
        {
          "output_type": "stream",
          "name": "stdout",
          "text": [
            "matriz de confusão, sem normalização\n",
            "[[ 6  0]\n",
            " [13  1]]\n"
          ]
        },
        {
          "output_type": "display_data",
          "data": {
            "text/plain": [
              "<Figure size 720x504 with 2 Axes>"
            ],
            "image/png": "[encoded data removed]"
          },
          "metadata": {
            "needs_background": "light"
          }
        }
      ]
    }
  ]
}