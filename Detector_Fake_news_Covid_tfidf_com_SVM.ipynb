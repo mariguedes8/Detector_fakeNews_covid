{
  "nbformat": 4,
  "nbformat_minor": 0,
  "metadata": {
    "colab": {
      "name": "Detector Fake news Covid-tfidf com SVM.ipynb",
      "provenance": [],
      "authorship_tag": "ABX9TyNhuG7JBewcUgf33uu8EykG"
    },
    "kernelspec": {
      "name": "python3",
      "display_name": "Python 3"
    },
    "language_info": {
      "name": "python"
    }
  },
  "cells": [
    {
      "cell_type": "code",
      "execution_count": null,
      "metadata": {
        "id": "z-3K4MHbkTNx",
        "colab": {
          "base_uri": "https://localhost:8080/"
        },
        "outputId": "a038fcd0-ac96-4a71-f1f5-d39d60c3b043"
      },
      "outputs": [
        {
          "output_type": "stream",
          "name": "stderr",
          "text": [
            "[nltk_data] Downloading package stopwords to /root/nltk_data...\n",
            "[nltk_data]   Package stopwords is already up-to-date!\n"
          ]
        },
        {
          "output_type": "execute_result",
          "data": {
            "text/plain": [
              "True"
            ]
          },
          "metadata": {},
          "execution_count": 94
        }
      ],
      "source": [
        "# Importando bibliotecas\n",
        "\n",
        "import matplotlib.pyplot as plt\n",
        "import pandas as pd\n",
        "import numpy as np\n",
        "import itertools as iter\n",
        "from sklearn.pipeline import Pipeline\n",
        "from sklearn.metrics import classification_report, confusion_matrix\n",
        "from sklearn.model_selection import train_test_split\n",
        "from sklearn.naive_bayes import MultinomialNB\n",
        "from sklearn.svm import SVC\n",
        "from sklearn.feature_extraction.text import TfidfVectorizer\n",
        "import pickle\n",
        "import seaborn as sn\n",
        "import nltk\n",
        "from nltk.corpus import stopwords\n",
        "import nltk\n",
        "nltk.download('stopwords')\n"
      ]
    },
    {
      "cell_type": "code",
      "source": [
        "# Importando Arquivo/ Corpus\n",
        "news = pd.read_csv(\"/content/Compliado_falso _Verdadeiro.csv\")\n",
        "X = news['text']\n",
        "y = news['label']\n"
      ],
      "metadata": {
        "id": "2vGwXGYCkp5B"
      },
      "execution_count": null,
      "outputs": []
    },
    {
      "cell_type": "code",
      "source": [
        "X_train, X_test, y_train, y_test = train_test_split(X, y, test_size=0.2)\n"
      ],
      "metadata": {
        "id": "sWLMKs-MkxSi"
      },
      "execution_count": null,
      "outputs": []
    },
    {
      "cell_type": "code",
      "source": [
        "# Criando um pipeline que primeiro cria um pacote de palavras (depois de aplicar palavras irrelevantes) e depois aplica o modelo Multinomial Naive Bayes\n",
        "# Classificador Naive Bayes para modelos multinomiais.\n",
        "\n",
        "pipeline = Pipeline([('tfidf', TfidfVectorizer(stop_words=stopwords.words('portuguese'), analyzer='word')),\n",
        "                     ('svc', SVC())])\n"
      ],
      "metadata": {
        "id": "Qmv3xw9Mk1O_"
      },
      "execution_count": null,
      "outputs": []
    },
    {
      "cell_type": "code",
      "source": [
        "#Treinando os dados\n",
        "pipeline.fit(X_train, y_train)\n"
      ],
      "metadata": {
        "colab": {
          "base_uri": "https://localhost:8080/"
        },
        "id": "Uah8XlJck4bQ",
        "outputId": "e08e5211-ac8a-42fa-c55b-5f45fa07d4bd"
      },
      "execution_count": null,
      "outputs": [
        {
          "output_type": "execute_result",
          "data": {
            "text/plain": [
              "Pipeline(steps=[('tfidf',\n",
              "                 TfidfVectorizer(stop_words=['a', 'à', 'ao', 'aos', 'aquela',\n",
              "                                             'aquelas', 'aquele', 'aqueles',\n",
              "                                             'aquilo', 'as', 'às', 'até', 'com',\n",
              "                                             'como', 'da', 'das', 'de', 'dela',\n",
              "                                             'delas', 'dele', 'deles', 'depois',\n",
              "                                             'do', 'dos', 'e', 'é', 'ela',\n",
              "                                             'elas', 'ele', 'eles', ...])),\n",
              "                ('svc', SVC())])"
            ]
          },
          "metadata": {},
          "execution_count": 98
        }
      ]
    },
    {
      "cell_type": "code",
      "source": [
        "# Prevendo o rótulo para os dados de teste\n",
        "\n",
        "pred = pipeline.predict(X_test)\n"
      ],
      "metadata": {
        "id": "oFvbvfzQmom_"
      },
      "execution_count": null,
      "outputs": []
    },
    {
      "cell_type": "code",
      "source": [
        "# Verificando o desempenho do nosso modelo\n",
        "\n",
        "print(\"Relatório de classificação\")\n",
        "print(classification_report(y_test, pred))\n"
      ],
      "metadata": {
        "colab": {
          "base_uri": "https://localhost:8080/"
        },
        "id": "EMroJ7oqms0f",
        "outputId": "1ee4cfcd-0b26-4169-e713-b0beb3522081"
      },
      "execution_count": null,
      "outputs": [
        {
          "output_type": "stream",
          "name": "stdout",
          "text": [
            "Relatório de classificação\n",
            "              precision    recall  f1-score   support\n",
            "\n",
            "        FAKE       1.00      0.08      0.15        12\n",
            "        REAL       0.42      1.00      0.59         8\n",
            "\n",
            "    accuracy                           0.45        20\n",
            "   macro avg       0.71      0.54      0.37        20\n",
            "weighted avg       0.77      0.45      0.33        20\n",
            "\n"
          ]
        }
      ]
    },
    {
      "cell_type": "code",
      "source": [
        "print(\"Valor da matriz de confusão\")\n",
        "array = confusion_matrix(y_test, pred)\n",
        "print(array)\n"
      ],
      "metadata": {
        "colab": {
          "base_uri": "https://localhost:8080/"
        },
        "id": "m9FPppqkmuKK",
        "outputId": "bceefa12-e935-4a2c-f184-70ddaa3eabb8"
      },
      "execution_count": null,
      "outputs": [
        {
          "output_type": "stream",
          "name": "stdout",
          "text": [
            "Valor da matriz de confusão\n",
            "[[ 1 11]\n",
            " [ 0  8]]\n"
          ]
        }
      ]
    },
    {
      "cell_type": "code",
      "source": [
        "## Mapa de Calor\n",
        "\n",
        "df_cm = pd.DataFrame(array, index=[i for i in \"AB\"],\n",
        "                     columns=[i for i in \"AB\"])\n",
        "plt.figure(figsize=(10, 7))\n",
        "sn.heatmap(df_cm, annot=True)\n"
      ],
      "metadata": {
        "colab": {
          "base_uri": "https://localhost:8080/",
          "height": 446
        },
        "id": "a9BE_8dCmzcd",
        "outputId": "37d4c721-f4cf-48e0-964f-40e0507d08be"
      },
      "execution_count": null,
      "outputs": [
        {
          "output_type": "execute_result",
          "data": {
            "text/plain": [
              "<matplotlib.axes._subplots.AxesSubplot at 0x7f62ab4c9f90>"
            ]
          },
          "metadata": {},
          "execution_count": 102
        },
        {
          "output_type": "display_data",
          "data": {
            "text/plain": [
              "<Figure size 720x504 with 2 Axes>"
            ],
            "image/png": "[encoded data removed]"
          },
          "metadata": {
            "needs_background": "light"
          }
        }
      ]
    },
    {
      "cell_type": "code",
      "source": [
        "with open('model.pickle', 'wb') as handle:\n",
        "    pickle.dump(pipeline, handle, protocol=pickle.HIGHEST_PROTOCOL)\n"
      ],
      "metadata": {
        "id": "btJDfHdim2iH"
      },
      "execution_count": null,
      "outputs": []
    },
    {
      "cell_type": "code",
      "source": [
        "def plot_confusion_matrix(cm, classes,\n",
        "                          normalize=False,\n",
        "                          title='matriz de confusão',\n",
        "                          cmap=plt.cm.Blues):\n",
        "    \n",
        "    if normalize:\n",
        "        cm = cm.astype('float') / cm.sum(axis=1)[:, np.newaxis]\n",
        "        print(\"matriz de confusão Normalizada\")\n",
        "    else:\n",
        "        print('matriz de confusão, sem normalização')\n",
        "\n",
        "    print(cm)\n",
        "\n",
        "    plt.imshow(cm, interpolation='nearest', cmap=cmap)\n",
        "    plt.title(title)\n",
        "    plt.colorbar()\n",
        "    tick_marks = np.arange(len(classes))\n",
        "    plt.xticks(tick_marks, classes, rotation=45)\n",
        "    plt.yticks(tick_marks, classes)\n",
        "\n",
        "    fmt = '.2f' if normalize else 'd'\n",
        "    thresh = cm.max() / 2.\n",
        "    for i, j in iter.product(range(cm.shape[0]), range(cm.shape[1])):\n",
        "        plt.text(j, i, format(cm[i, j], fmt),\n",
        "                 horizontalalignment=\"center\",\n",
        "                 color=\"white\" if cm[i, j] > thresh else \"black\")\n",
        "\n",
        "    plt.ylabel('True label')\n",
        "    plt.xlabel('Predicted label')\n",
        "    plt.tight_layout()\n",
        "\n",
        "\n"
      ],
      "metadata": {
        "id": "Wei6Cg6bm9jA"
      },
      "execution_count": null,
      "outputs": []
    },
    {
      "cell_type": "code",
      "source": [
        "cnf_matrix = confusion_matrix(y_test, pred)\n",
        "np.set_printoptions(precision=2)\n"
      ],
      "metadata": {
        "id": "mLAT9tQqnBLa"
      },
      "execution_count": null,
      "outputs": []
    },
    {
      "cell_type": "code",
      "source": [
        "plt.figure(figsize=(10, 7))\n",
        "plot_confusion_matrix(cnf_matrix, classes=['Fake', 'Real'],\n",
        "                      title=' matriz de confusão sem normalização')\n"
      ],
      "metadata": {
        "colab": {
          "base_uri": "https://localhost:8080/",
          "height": 568
        },
        "id": "H-rKCfqzndu6",
        "outputId": "c393981d-8b40-4109-badb-b603df64c56f"
      },
      "execution_count": null,
      "outputs": [
        {
          "output_type": "stream",
          "name": "stdout",
          "text": [
            "matriz de confusão, sem normalização\n",
            "[[ 1 11]\n",
            " [ 0  8]]\n"
          ]
        },
        {
          "output_type": "display_data",
          "data": {
            "text/plain": [
              "<Figure size 720x504 with 2 Axes>"
            ],
            "image/png": "[encoded data removed]"
          },
          "metadata": {
            "needs_background": "light"
          }
        }
      ]
    }
  ]
}