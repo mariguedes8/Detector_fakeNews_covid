{
  "nbformat": 4,
  "nbformat_minor": 0,
  "metadata": {
    "colab": {
      "name": "Detector Fake news Covid-tfidf com Naive Bayes.ipynb",
      "provenance": [],
      "authorship_tag": "ABX9TyNSFFHp/lG+8er2RvCt78mc"
    },
    "kernelspec": {
      "name": "python3",
      "display_name": "Python 3"
    },
    "language_info": {
      "name": "python"
    }
  },
  "cells": [
    {
      "cell_type": "code",
      "execution_count": null,
      "metadata": {
        "id": "z-3K4MHbkTNx",
        "outputId": "e38e513c-0c85-4273-b7ad-070e8d7899ba",
        "colab": {
          "base_uri": "https://localhost:8080/"
        }
      },
      "outputs": [
        {
          "output_type": "stream",
          "name": "stderr",
          "text": [
            "[nltk_data] Downloading package stopwords to /root/nltk_data...\n",
            "[nltk_data]   Package stopwords is already up-to-date!\n"
          ]
        },
        {
          "output_type": "execute_result",
          "data": {
            "text/plain": [
              "True"
            ]
          },
          "metadata": {},
          "execution_count": 92
        }
      ],
      "source": [
        "# Importando bibliotecas\n",
        "\n",
        "import matplotlib.pyplot as plt\n",
        "import pandas as pd\n",
        "import numpy as np\n",
        "import itertools as iter\n",
        "from sklearn.pipeline import Pipeline\n",
        "from sklearn.metrics import classification_report, confusion_matrix\n",
        "from sklearn.model_selection import train_test_split\n",
        "from sklearn.naive_bayes import MultinomialNB\n",
        "from sklearn.feature_extraction.text import TfidfVectorizer\n",
        "import pickle\n",
        "import seaborn as sn\n",
        "import nltk\n",
        "from nltk.corpus import stopwords\n",
        "import nltk\n",
        "nltk.download('stopwords')\n"
      ]
    },
    {
      "cell_type": "code",
      "source": [
        "# Importando Arquivo/ Corpus\n",
        "news = pd.read_csv(\"/content/Compliado_falso _Verdadeiro.csv\")\n",
        "X = news['text']\n",
        "y = news['label']\n"
      ],
      "metadata": {
        "id": "2vGwXGYCkp5B"
      },
      "execution_count": null,
      "outputs": []
    },
    {
      "cell_type": "code",
      "source": [
        "X_train, X_test, y_train, y_test = train_test_split(X, y, test_size=0.2)\n"
      ],
      "metadata": {
        "id": "sWLMKs-MkxSi"
      },
      "execution_count": null,
      "outputs": []
    },
    {
      "cell_type": "code",
      "source": [
        "# Criando um pipeline que primeiro cria um pacote de palavras (depois de aplicar palavras irrelevantes) e depois aplica o modelo Multinomial Naive Bayes\n",
        "# Classificador Naive Bayes para modelos multinomiais.\n",
        "\n",
        "pipeline = Pipeline([('tfidf', TfidfVectorizer(stop_words=stopwords.words('portuguese'), analyzer='word')),\n",
        "                     ('nbmodel', MultinomialNB())])\n"
      ],
      "metadata": {
        "id": "Qmv3xw9Mk1O_"
      },
      "execution_count": null,
      "outputs": []
    },
    {
      "cell_type": "code",
      "source": [
        "#Treinando os dados\n",
        "pipeline.fit(X_train, y_train)\n"
      ],
      "metadata": {
        "colab": {
          "base_uri": "https://localhost:8080/"
        },
        "id": "Uah8XlJck4bQ",
        "outputId": "4b310a2a-8042-4c0e-cee6-29642ab9d460"
      },
      "execution_count": null,
      "outputs": [
        {
          "output_type": "execute_result",
          "data": {
            "text/plain": [
              "Pipeline(steps=[('tfidf',\n",
              "                 TfidfVectorizer(stop_words=['a', 'à', 'ao', 'aos', 'aquela',\n",
              "                                             'aquelas', 'aquele', 'aqueles',\n",
              "                                             'aquilo', 'as', 'às', 'até', 'com',\n",
              "                                             'como', 'da', 'das', 'de', 'dela',\n",
              "                                             'delas', 'dele', 'deles', 'depois',\n",
              "                                             'do', 'dos', 'e', 'é', 'ela',\n",
              "                                             'elas', 'ele', 'eles', ...])),\n",
              "                ('nbmodel', MultinomialNB())])"
            ]
          },
          "metadata": {},
          "execution_count": 96
        }
      ]
    },
    {
      "cell_type": "code",
      "source": [
        "# Prevendo o rótulo para os dados de teste\n",
        "\n",
        "pred = pipeline.predict(X_test)\n"
      ],
      "metadata": {
        "id": "oFvbvfzQmom_"
      },
      "execution_count": null,
      "outputs": []
    },
    {
      "cell_type": "code",
      "source": [
        "# Verificando o desempenho do nosso modelo\n",
        "\n",
        "print(\"Relatório de classificação\")\n",
        "print(classification_report(y_test, pred))\n"
      ],
      "metadata": {
        "colab": {
          "base_uri": "https://localhost:8080/"
        },
        "id": "EMroJ7oqms0f",
        "outputId": "dac95fa6-5db6-4946-addd-b4146496bdda"
      },
      "execution_count": null,
      "outputs": [
        {
          "output_type": "stream",
          "name": "stdout",
          "text": [
            "Relatório de classificação\n",
            "              precision    recall  f1-score   support\n",
            "\n",
            "        FAKE       0.80      0.67      0.73        12\n",
            "        REAL       0.60      0.75      0.67         8\n",
            "\n",
            "    accuracy                           0.70        20\n",
            "   macro avg       0.70      0.71      0.70        20\n",
            "weighted avg       0.72      0.70      0.70        20\n",
            "\n"
          ]
        }
      ]
    },
    {
      "cell_type": "code",
      "source": [
        "print(\"Valor da matriz de confusão\")\n",
        "array = confusion_matrix(y_test, pred)\n",
        "print(array)\n"
      ],
      "metadata": {
        "colab": {
          "base_uri": "https://localhost:8080/"
        },
        "id": "m9FPppqkmuKK",
        "outputId": "bec3d57a-a226-4a6c-e645-33a62b78716a"
      },
      "execution_count": null,
      "outputs": [
        {
          "output_type": "stream",
          "name": "stdout",
          "text": [
            "Valor da matriz de confusão\n",
            "[[8 4]\n",
            " [2 6]]\n"
          ]
        }
      ]
    },
    {
      "cell_type": "code",
      "source": [
        "## Mapa de Calor\n",
        "\n",
        "df_cm = pd.DataFrame(array, index=[i for i in \"AB\"],\n",
        "                     columns=[i for i in \"AB\"])\n",
        "plt.figure(figsize=(10, 7))\n",
        "sn.heatmap(df_cm, annot=True)\n"
      ],
      "metadata": {
        "colab": {
          "base_uri": "https://localhost:8080/",
          "height": 450
        },
        "id": "a9BE_8dCmzcd",
        "outputId": "6107306c-2af0-4d1a-b32e-3d680e494438"
      },
      "execution_count": null,
      "outputs": [
        {
          "output_type": "execute_result",
          "data": {
            "text/plain": [
              "<matplotlib.axes._subplots.AxesSubplot at 0x7f2a29a9e790>"
            ]
          },
          "metadata": {},
          "execution_count": 100
        },
        {
          "output_type": "display_data",
          "data": {
            "text/plain": [
              "<Figure size 720x504 with 2 Axes>"
            ],
            "image/png": "[encoded data removed]"
          },
          "metadata": {
            "needs_background": "light"
          }
        }
      ]
    },
    {
      "cell_type": "code",
      "source": [
        "with open('model.pickle', 'wb') as handle:\n",
        "    pickle.dump(pipeline, handle, protocol=pickle.HIGHEST_PROTOCOL)\n"
      ],
      "metadata": {
        "id": "btJDfHdim2iH"
      },
      "execution_count": null,
      "outputs": []
    },
    {
      "cell_type": "code",
      "source": [
        "def plot_confusion_matrix(cm, classes,\n",
        "                          normalize=False,\n",
        "                          title='matriz de confusão',\n",
        "                          cmap=plt.cm.Blues):\n",
        "    \n",
        "    if normalize:\n",
        "        cm = cm.astype('float') / cm.sum(axis=1)[:, np.newaxis]\n",
        "        print(\"matriz de confusão Normalizada\")\n",
        "    else:\n",
        "        print('matriz de confusão, sem normalização')\n",
        "\n",
        "    print(cm)\n",
        "\n",
        "    plt.imshow(cm, interpolation='nearest', cmap=cmap)\n",
        "    plt.title(title)\n",
        "    plt.colorbar()\n",
        "    tick_marks = np.arange(len(classes))\n",
        "    plt.xticks(tick_marks, classes, rotation=45)\n",
        "    plt.yticks(tick_marks, classes)\n",
        "\n",
        "    fmt = '.2f' if normalize else 'd'\n",
        "    thresh = cm.max() / 2.\n",
        "    for i, j in iter.product(range(cm.shape[0]), range(cm.shape[1])):\n",
        "        plt.text(j, i, format(cm[i, j], fmt),\n",
        "                 horizontalalignment=\"center\",\n",
        "                 color=\"white\" if cm[i, j] > thresh else \"black\")\n",
        "\n",
        "    plt.ylabel('True label')\n",
        "    plt.xlabel('Predicted label')\n",
        "    plt.tight_layout()\n",
        "\n",
        "\n"
      ],
      "metadata": {
        "id": "Wei6Cg6bm9jA"
      },
      "execution_count": null,
      "outputs": []
    },
    {
      "cell_type": "code",
      "source": [
        "cnf_matrix = confusion_matrix(y_test, pred)\n",
        "np.set_printoptions(precision=2)\n"
      ],
      "metadata": {
        "id": "mLAT9tQqnBLa"
      },
      "execution_count": null,
      "outputs": []
    },
    {
      "cell_type": "code",
      "source": [
        "plt.figure(figsize=(10, 7))\n",
        "plot_confusion_matrix(cnf_matrix, classes=['Fake', 'Real'],\n",
        "                      title=' matriz de confusão sem normalização')\n"
      ],
      "metadata": {
        "colab": {
          "base_uri": "https://localhost:8080/",
          "height": 568
        },
        "id": "H-rKCfqzndu6",
        "outputId": "69fff4f2-08e1-49b0-83d2-287b83964916"
      },
      "execution_count": null,
      "outputs": [
        {
          "output_type": "stream",
          "name": "stdout",
          "text": [
            "matriz de confusão, sem normalização\n",
            "[[8 4]\n",
            " [2 6]]\n"
          ]
        },
        {
          "output_type": "display_data",
          "data": {
            "text/plain": [
              "<Figure size 720x504 with 2 Axes>"
            ],
            "image/png": "[encoded data removed]"
          },
          "metadata": {
            "needs_background": "light"
          }
        }
      ]
    }
  ]
}